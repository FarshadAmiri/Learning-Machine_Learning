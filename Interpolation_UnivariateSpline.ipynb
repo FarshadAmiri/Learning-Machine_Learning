{
  "nbformat": 4,
  "nbformat_minor": 0,
  "metadata": {
    "colab": {
      "name": "Interpolation_UnivariateSpline.ipynb",
      "provenance": [],
      "collapsed_sections": [],
      "authorship_tag": "ABX9TyNp9BRycPWSyGJalDB4yzvJ",
      "include_colab_link": true
    },
    "kernelspec": {
      "name": "python3",
      "display_name": "Python 3"
    },
    "language_info": {
      "name": "python"
    }
  },
  "cells": [
    {
      "cell_type": "markdown",
      "metadata": {
        "id": "view-in-github",
        "colab_type": "text"
      },
      "source": [
        "<a href=\"https://colab.research.google.com/github/FarshadAmiri/Learning-codes/blob/master/Interpolation_UnivariateSpline.ipynb\" target=\"_parent\"><img src=\"https://colab.research.google.com/assets/colab-badge.svg\" alt=\"Open In Colab\"/></a>"
      ]
    },
    {
      "cell_type": "code",
      "metadata": {
        "id": "EFDWg8NaTu3W"
      },
      "source": [
        "from scipy.interpolate import UnivariateSpline"
      ],
      "execution_count": 2,
      "outputs": []
    },
    {
      "cell_type": "code",
      "metadata": {
        "id": "LIv9IIglT2k8"
      },
      "source": [
        "x = [0,20,30,50,70,80,100]\n",
        "y = [0,23,32,48,76,86,105]\n",
        "spline = UnivariateSpline(x,y)"
      ],
      "execution_count": null,
      "outputs": []
    },
    {
      "cell_type": "code",
      "metadata": {
        "id": "s7ZG9ib1UC78"
      },
      "source": [
        "plt.plot(spline(np.arange(0,101)),'r-')\n",
        "plt.plot(np.arange(0,101),'b-')"
      ],
      "execution_count": null,
      "outputs": []
    },
    {
      "cell_type": "code",
      "metadata": {
        "id": "-sYu7uHHUEYE"
      },
      "source": [
        "spline(74)"
      ],
      "execution_count": null,
      "outputs": []
    }
  ]
}